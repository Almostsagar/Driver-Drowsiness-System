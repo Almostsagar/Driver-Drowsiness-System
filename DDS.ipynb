{
  "nbformat": 4,
  "nbformat_minor": 5,
  "metadata": {
    "kernelspec": {
      "display_name": "Python 3",
      "language": "python",
      "name": "python3"
    },
    "language_info": {
      "codemirror_mode": {
        "name": "ipython",
        "version": 3
      },
      "file_extension": ".py",
      "mimetype": "text/x-python",
      "name": "python",
      "nbconvert_exporter": "python",
      "pygments_lexer": "ipython3",
      "version": "3.9.5"
    },
    "colab": {
      "name": "DDS.ipynb",
      "provenance": [],
      "include_colab_link": true
    }
  },
  "cells": [
    {
      "cell_type": "markdown",
      "metadata": {
        "id": "view-in-github",
        "colab_type": "text"
      },
      "source": [
        "<a href=\"https://colab.research.google.com/github/Almostsagar/Driver-Drowsiness-System/blob/main/DDS.ipynb\" target=\"_parent\"><img src=\"https://colab.research.google.com/assets/colab-badge.svg\" alt=\"Open In Colab\"/></a>"
      ]
    },
    {
      "cell_type": "code",
      "metadata": {
        "colab": {
          "base_uri": "https://localhost:8080/"
        },
        "id": "xhVadYEdz3ex",
        "outputId": "ac47fa0e-fcc7-4d87-958e-17b780116db5"
      },
      "source": [
        "from google.colab import drive\n",
        "drive.mount('/content/drive')"
      ],
      "id": "xhVadYEdz3ex",
      "execution_count": 1,
      "outputs": [
        {
          "output_type": "stream",
          "text": [
            "Mounted at /content/drive\n"
          ],
          "name": "stdout"
        }
      ]
    },
    {
      "cell_type": "code",
      "metadata": {
        "id": "de560cc8",
        "outputId": "1d515401-941f-4d37-eed5-bb88c956d0de"
      },
      "source": [
        "import numpy as np\n",
        "import dlib    #To detect and localize facial landmarks\n",
        "import cv2\n",
        "import threading\n",
        "from threading import Thread\n",
        "import imutils\n",
        "from imutils import face_utils\n",
        "from scipy.spatial import distance as dist\n",
        "import pygame"
      ],
      "id": "de560cc8",
      "execution_count": null,
      "outputs": [
        {
          "output_type": "stream",
          "text": [
            "pygame 2.0.1 (SDL 2.0.14, Python 3.9.5)\n",
            "Hello from the pygame community. https://www.pygame.org/contribute.html\n"
          ],
          "name": "stdout"
        }
      ]
    },
    {
      "cell_type": "code",
      "metadata": {
        "id": "1b808db1"
      },
      "source": [
        "def sound_alarm():\n",
        "    pygame.mixer.init()\n",
        "    pygame.mixer.music.load(\"alarm.wav\")\n",
        "    pygame.mixer.music.play()"
      ],
      "id": "1b808db1",
      "execution_count": null,
      "outputs": []
    },
    {
      "cell_type": "code",
      "metadata": {
        "id": "6dec924b"
      },
      "source": [
        "\n",
        "def eye_aspect_ratio(eye):\n",
        "    A = dist.euclidean(eye[1], eye[5])\n",
        "    B = dist.euclidean(eye[2], eye[4])   #vertical distance\n",
        "    C = dist.euclidean(eye[0], eye[3])   #horizontal distance\n",
        "\n",
        "    ear = (A + B) / (2.0 * C)\n",
        "    return ear"
      ],
      "id": "6dec924b",
      "execution_count": null,
      "outputs": []
    },
    {
      "cell_type": "code",
      "metadata": {
        "id": "7dae07fb"
      },
      "source": [
        "EYE_AR_THRESH = 0.3\n",
        "EYE_AR_CONSEC_FRAMES = 40\n",
        "\n",
        "COUNTER = 0\n",
        "ALARM_ON = False"
      ],
      "id": "7dae07fb",
      "execution_count": null,
      "outputs": []
    },
    {
      "cell_type": "code",
      "metadata": {
        "id": "ba5d053e"
      },
      "source": [
        "predictor_path = 'shape_predictor_68_face_landmarks.dat'\n",
        "detector = dlib.get_frontal_face_detector()\n",
        "predictor = dlib.shape_predictor(predictor_path)"
      ],
      "id": "ba5d053e",
      "execution_count": null,
      "outputs": []
    },
    {
      "cell_type": "code",
      "metadata": {
        "id": "cf42dd99"
      },
      "source": [
        "#Grab the indexes of the facial landmarks for the left and\n",
        "# right eye,respectively\n",
        "(lStart, lEnd) = face_utils.FACIAL_LANDMARKS_IDXS[\"left_eye\"]\n",
        "( rStart , rEnd ) =face_utils.FACIAL_LANDMARKS_IDXS[\"right_eye\"]"
      ],
      "id": "cf42dd99",
      "execution_count": null,
      "outputs": []
    },
    {
      "cell_type": "code",
      "metadata": {
        "id": "c351f7e7"
      },
      "source": [
        "cap = cv2.VideoCapture(0)\n",
        "while True:\n",
        "    ret, frame = cap.read()\n",
        "    if ret == False:\n",
        "        print('Failed to capture frame from camera. Check camera index in                    cv2.VideoCapture(0) \\n')\n",
        "        break\n",
        "        # cv2.imshow(frame)\n",
        "\n",
        "    frame = imutils.resize(frame, width=450)\n",
        "    gray = cv2.cvtColor(frame, cv2.COLOR_BGR2GRAY)\n",
        "    rects = detector(gray, 0)\n",
        "\n",
        "    for rect in rects:\n",
        "        shape = predictor(gray, rect)    # determine the facial landmarks for             #face region\n",
        "        shape = face_utils.shape_to_np(shape) #converting to numpy array\n",
        "\n",
        "        leftEye = shape[lStart:lEnd]\n",
        "        rightEye = shape[rStart:rEnd]\n",
        "\n",
        "        leftEAR = eye_aspect_ratio(leftEye)\n",
        "        rightEAR = eye_aspect_ratio(rightEye)\n",
        "\n",
        "        ear = (leftEAR + rightEAR) / 2.0\n",
        "\n",
        "        leftEyeHull = cv2.convexHull(leftEye)\n",
        "        rightEyeHull = cv2.convexHull(rightEye)\n",
        "        cv2.drawContours(frame, [leftEyeHull], -1, (0, 255, 0), 1)\n",
        "        cv2.drawContours(frame, [rightEyeHull], -1, (0, 255, 0), 1)\n",
        "\n",
        "        if ear < EYE_AR_THRESH:\n",
        "            COUNTER += 1\n",
        "\n",
        "            if COUNTER >= EYE_AR_CONSEC_FRAMES:\n",
        "                if not ALARM_ON:\n",
        "                    ALARM_ON = True\n",
        "                    d=threading.Thread(target=sound_alarm)\n",
        "                    d.setDaemon(True)\n",
        "                    d.start()\n",
        "\n",
        "                cv2.putText(frame, \"DROWSINESS ALERT!\", (10, 30),                                        cv2.FONT_HERSHEY_SIMPLEX, 0.7, (0, 0, 255), 2)\n",
        "\n",
        "        else:\n",
        "            COUNTER = 0\n",
        "            ALARM_ON = False\n",
        "\n",
        "        cv2.putText(frame, \"EAR: {:.2f}\".format(ear), (300, 30),                 cv2.FONT_HERSHEY_SIMPLEX, 0.7, (0, 0, 255), 2)\n",
        "\n",
        "    cv2.imshow(\"Frame\", frame)\n",
        "    key = cv2.waitKey(1) & 0xFF\n",
        "\n",
        "    if key == ord(\"q\"):\n",
        "        break\n",
        "\n",
        "cv2.destroyAllWindows()\n",
        "cap.release()"
      ],
      "id": "c351f7e7",
      "execution_count": null,
      "outputs": []
    },
    {
      "cell_type": "code",
      "metadata": {
        "id": "be310a20"
      },
      "source": [
        ""
      ],
      "id": "be310a20",
      "execution_count": null,
      "outputs": []
    }
  ]
}